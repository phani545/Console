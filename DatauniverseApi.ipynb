{
  "nbformat": 4,
  "nbformat_minor": 0,
  "metadata": {
    "colab": {
      "provenance": [],
      "include_colab_link": true
    },
    "kernelspec": {
      "name": "python3",
      "display_name": "Python 3"
    },
    "language_info": {
      "name": "python"
    }
  },
  "cells": [
    {
      "cell_type": "markdown",
      "metadata": {
        "id": "view-in-github",
        "colab_type": "text"
      },
      "source": [
        "<a href=\"https://colab.research.google.com/github/phani545/Console/blob/master/DatauniverseApi.ipynb\" target=\"_parent\"><img src=\"https://colab.research.google.com/assets/colab-badge.svg\" alt=\"Open In Colab\"/></a>"
      ]
    },
    {
      "cell_type": "code",
      "execution_count": 66,
      "metadata": {
        "id": "6W43pz8HOysb"
      },
      "outputs": [],
      "source": [
        "import requests\n",
        "import datetime\n",
        "import json\n",
        "import time\n",
        "import pandas as pd\n",
        "from pandas import json_normalize \n",
        "\n",
        "headers = {\n",
        "  'X-RapidAPI-Key': '2b7515a7e9msh6b97e370fc4261dp155df4jsnbf99dd86846b',\n",
        "  \"X-RapidAPI-Host\": \"tiktok82.p.rapidapi.com\"\n",
        "}"
      ]
    },
    {
      "cell_type": "code",
      "source": [
        "def makereq(url,querystring):\n",
        "    time.sleep(7)\n",
        "    return requests.request(\"GET\", url, headers=headers, params=querystring).json()"
      ],
      "metadata": {
        "id": "0IWbrfU4ThVs"
      },
      "execution_count": 67,
      "outputs": []
    },
    {
      "cell_type": "markdown",
      "source": [
        "Get User Profile Details"
      ],
      "metadata": {
        "id": "CLFv6I3jVmP2"
      }
    },
    {
      "cell_type": "code",
      "source": [
        "def getUserId(username:str):\n",
        "  url = \"https://tiktok82.p.rapidapi.com/getProfile\"\n",
        "\n",
        "  querystring = {\"username\":username}\n",
        "\n",
        "  response = requests.request(\"GET\", url, headers=headers, params=querystring).json()\n",
        "\n",
        "  #print(response)\n",
        "  \n",
        "  return response"
      ],
      "metadata": {
        "id": "EZbblMezPG0_"
      },
      "execution_count": 68,
      "outputs": []
    },
    {
      "cell_type": "code",
      "source": [
        "response=getUserId(\"visitithra\",)"
      ],
      "metadata": {
        "id": "qY-x1XzoRktE"
      },
      "execution_count": 69,
      "outputs": []
    },
    {
      "cell_type": "code",
      "source": [
        "with open(\"tictokuserID.json\",\"w\") as json_file:\n",
        "  json.dump(response,json_file)"
      ],
      "metadata": {
        "id": "VGyBvCITTpuN"
      },
      "execution_count": 70,
      "outputs": []
    },
    {
      "cell_type": "code",
      "source": [
        "userid = response[\"data\"][\"user\"][\"id\"]\n",
        "userid"
      ],
      "metadata": {
        "colab": {
          "base_uri": "https://localhost:8080/",
          "height": 35
        },
        "id": "bRLIfJNrWXAu",
        "outputId": "7d99c60c-c6ae-4858-93d5-527bbd227b1f"
      },
      "execution_count": 71,
      "outputs": [
        {
          "output_type": "execute_result",
          "data": {
            "text/plain": [
              "'6914181639548158981'"
            ],
            "application/vnd.google.colaboratory.intrinsic+json": {
              "type": "string"
            }
          },
          "metadata": {},
          "execution_count": 71
        }
      ]
    },
    {
      "cell_type": "code",
      "source": [
        "secUid = response[\"data\"][\"user\"][\"secUid\"]\n",
        "secUid"
      ],
      "metadata": {
        "colab": {
          "base_uri": "https://localhost:8080/",
          "height": 35
        },
        "id": "qI0WqvlcW5Pp",
        "outputId": "fbbe1fe9-e5ed-4608-dd94-dc79b97dc6b5"
      },
      "execution_count": 72,
      "outputs": [
        {
          "output_type": "execute_result",
          "data": {
            "text/plain": [
              "'MS4wLjABAAAA8oVuC1QHHFJ1mnHIGYkpAErwsbm9kSmGt1mRahHSOFia0Z5m483u40aLrWzBKzK-'"
            ],
            "application/vnd.google.colaboratory.intrinsic+json": {
              "type": "string"
            }
          },
          "metadata": {},
          "execution_count": 72
        }
      ]
    },
    {
      "cell_type": "code",
      "source": [
        "def getUserVideos(userid,secUid,cursor:str or None=None):\n",
        " \n",
        "  if cursor==None:\n",
        "\n",
        "    url = \"https://tiktok82.p.rapidapi.com/getUserVideos\"\n",
        "    querystring = {\"user_id\":userid,\"secUid\":secUid}\n",
        "    response = requests.request(\"GET\", url, headers=headers, params=querystring).json()\n",
        " \n",
        "  else:\n",
        "    url = \"https://tiktok82.p.rapidapi.com/getUserVideos\"\n",
        "    querystring = {\"user_id\":userid,\"secUid\":secUid,\"cursor\":cursor}\n",
        "    response = requests.request(\"GET\", url, headers=headers, params=querystring).json()\n",
        "  return response"
      ],
      "metadata": {
        "id": "WKRxQ1fcQN0m"
      },
      "execution_count": 73,
      "outputs": []
    },
    {
      "cell_type": "code",
      "source": [
        "resvedious = getUserVideos(userid,secUid)\n",
        "#resvedious"
      ],
      "metadata": {
        "id": "LCqVu6C7Yvdo"
      },
      "execution_count": 74,
      "outputs": []
    },
    {
      "cell_type": "code",
      "source": [],
      "metadata": {
        "id": "HqlCTbdwY-DK"
      },
      "execution_count": null,
      "outputs": []
    },
    {
      "cell_type": "code",
      "source": [
        "def getAllUserVideos(username,count:int):\n",
        "  response=getUserId(username)\n",
        "  userid=response['data']['user']['id']\n",
        "  secUid=response['data']['user']['secUid']\n",
        "  response=getUserVideos(userid,secUid)\n",
        "  with open(\"1calluserresponce.json\",\"w\") as json_file:\n",
        "    json.dump(response,json_file)\n",
        "  #print(response) #37\n",
        "  print(len(response))\n",
        "  initobj=[]\n",
        "  initobj.extend(response['data']['items'])\n",
        "  #print(len(initobj))#19\n",
        "  while True:\n",
        "    finalobj=[]\n",
        "    cursor=response['data']['cursor']\n",
        "    if len(initobj)>=count:\n",
        "      break\n",
        "    response=getUserVideos(userid,secUid,cursor)\n",
        "    df2 = pd.json_normalize(response)\n",
        "    #print(df2)\n",
        "\n",
        "    with open(\"calluserresponce.json\",\"w\") as json_file:\n",
        "      json.dump(response,json_file)\n",
        "    #print(response)\n",
        "    finalobj.extend(response['data']['items'])\n",
        "    initobj.extend(finalobj)\n",
        "    #print(len(initobj))\n",
        "    \n",
        "    return initobj, df2\n",
        "\n",
        "\n",
        "\n"
      ],
      "metadata": {
        "id": "vJ518t6hUp0l"
      },
      "execution_count": 75,
      "outputs": []
    },
    {
      "cell_type": "code",
      "source": [
        "response, df2 = getAllUserVideos(\"visitithra\",100)"
      ],
      "metadata": {
        "colab": {
          "base_uri": "https://localhost:8080/",
          "height": 223
        },
        "id": "Bgdg4VT0XU9K",
        "outputId": "0757171b-37c6-4c37-e81a-7fa4c6b9a515"
      },
      "execution_count": 79,
      "outputs": [
        {
          "output_type": "stream",
          "name": "stdout",
          "text": [
            "2\n",
            "   success    data.cursor                                         data.items\n",
            "0     True  1647375790000  [{'adAuthorization': False, 'adLabelVersion': ...\n"
          ]
        },
        {
          "output_type": "error",
          "ename": "ValueError",
          "evalue": "ignored",
          "traceback": [
            "\u001b[0;31m---------------------------------------------------------------------------\u001b[0m",
            "\u001b[0;31mValueError\u001b[0m                                Traceback (most recent call last)",
            "\u001b[0;32m<ipython-input-79-6dae8d5e6884>\u001b[0m in \u001b[0;36m<module>\u001b[0;34m\u001b[0m\n\u001b[0;32m----> 1\u001b[0;31m \u001b[0mresponse\u001b[0m\u001b[0;34m,\u001b[0m \u001b[0mdf2\u001b[0m \u001b[0;34m=\u001b[0m \u001b[0mgetAllUserVideos\u001b[0m\u001b[0;34m(\u001b[0m\u001b[0;34m\"visitithra\"\u001b[0m\u001b[0;34m,\u001b[0m\u001b[0;36m100\u001b[0m\u001b[0;34m)\u001b[0m\u001b[0;34m\u001b[0m\u001b[0;34m\u001b[0m\u001b[0m\n\u001b[0m",
            "\u001b[0;31mValueError\u001b[0m: too many values to unpack (expected 2)"
          ]
        }
      ]
    },
    {
      "cell_type": "code",
      "source": [
        "with open(\"Uservideos.json\",\"w\") as json_file:\n",
        "  json.dump(response,json_file)\n"
      ],
      "metadata": {
        "id": "aFUjkZ_GShvl"
      },
      "execution_count": 12,
      "outputs": []
    },
    {
      "cell_type": "code",
      "source": [
        "def getComments(video_id:str):\n",
        " \n",
        "  url = \"https://tiktok82.p.rapidapi.com/getVideoComments\"\n",
        "\n",
        "  querystring = {\"video_id\":video_id}\n",
        "\n",
        "  response = requests.request(\"GET\", url, headers=headers, params=querystring).json()\n",
        "  print(response)\n",
        "  return response\n"
      ],
      "metadata": {
        "id": "bp_ibFlLTYGD"
      },
      "execution_count": null,
      "outputs": []
    },
    {
      "cell_type": "code",
      "source": [
        "response=getComments(\"7092859481897372929\")"
      ],
      "metadata": {
        "colab": {
          "base_uri": "https://localhost:8080/"
        },
        "id": "NMVXjPVrfH_U",
        "outputId": "8b5cb04e-03c1-44a8-e74b-bf51762eaa5e"
      },
      "execution_count": null,
      "outputs": [
        {
          "output_type": "stream",
          "name": "stdout",
          "text": [
            "{'success': False, 'data': 'data not found'}\n"
          ]
        }
      ]
    }
  ]
}